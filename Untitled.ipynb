{
 "cells": [
  {
   "cell_type": "code",
   "execution_count": 2,
   "id": "686bd7b6-911c-4561-835e-ca5d4a505c26",
   "metadata": {},
   "outputs": [
    {
     "name": "stdout",
     "output_type": "stream",
     "text": [
      "hello prashant\n"
     ]
    }
   ],
   "source": [
    "print(\"hello prashant\")"
   ]
  },
  {
   "cell_type": "code",
   "execution_count": 3,
   "id": "5bb4d3c4-407b-4c82-8022-fc2c48c15b21",
   "metadata": {},
   "outputs": [
    {
     "name": "stdout",
     "output_type": "stream",
     "text": [
      "how r u doing \n"
     ]
    }
   ],
   "source": [
    "print(\"how r u doing \")"
   ]
  },
  {
   "cell_type": "code",
   "execution_count": null,
   "id": "8a6c1bbb-8655-4b36-ae01-e6de514b075d",
   "metadata": {},
   "outputs": [],
   "source": []
  }
 ],
 "metadata": {
  "kernelspec": {
   "display_name": "Python 3 (ipykernel)",
   "language": "python",
   "name": "python3"
  },
  "language_info": {
   "codemirror_mode": {
    "name": "ipython",
    "version": 3
   },
   "file_extension": ".py",
   "mimetype": "text/x-python",
   "name": "python",
   "nbconvert_exporter": "python",
   "pygments_lexer": "ipython3",
   "version": "3.11.5"
  }
 },
 "nbformat": 4,
 "nbformat_minor": 5
}
