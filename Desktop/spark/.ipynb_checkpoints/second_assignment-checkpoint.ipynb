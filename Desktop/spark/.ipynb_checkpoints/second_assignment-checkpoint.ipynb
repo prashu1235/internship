{
 "cells": [
  {
   "cell_type": "code",
   "execution_count": 23,
   "id": "5dbf1997-10f2-4b2c-b8bf-3093e9234a32",
   "metadata": {},
   "outputs": [],
   "source": [
    "\n",
    "from datetime import datetime\n",
    "\n",
    "# Create a Spark session\n",
    "from pyspark.sql import SparkSession\n",
    "spark = SparkSession.builder.appName(\"DaysLatePayment\").getOrCreate()\n",
    "\n",
    "import numpy as np\n",
    "import pandas as pd\n",
    "import matplotlib.pyplot as plt\n",
    "import seaborn as sns\n",
    "\n",
    "import pyspark.sql.functions as F\n",
    "from pyspark.sql.functions import col, datediff, when\n",
    "from pyspark.ml.feature import Imputer\n",
    "from pyspark.sql.functions import median\n",
    "from pyspark.ml.feature import VectorAssembler\n",
    "from pyspark.ml.feature import StandardScaler\n",
    "\n",
    "from pyspark.ml import Pipeline\n",
    "from pyspark.ml.evaluation import BinaryClassificationEvaluator\n",
    "\n",
    "# from pyspark.ml.classification import LogisticRegression\n",
    "# from pyspark.ml.classification import DecisionTreeClassifier\n",
    "# from pyspark.ml.classification import RandomForestClassifier\n",
    "\n"
   ]
  },
  {
   "cell_type": "code",
   "execution_count": 24,
   "id": "522e5727-a6b6-4e9b-8130-74657b91dcdb",
   "metadata": {},
   "outputs": [],
   "source": [
    "# Assuming your dataset is stored in a DataFrame called df\n",
    "\n",
    "# Load the CSV file into a DataFrame\n",
    "df = spark.read.csv(\"credit_default_dataset.csv\", header=True, inferSchema=True)\n",
    "\n"
   ]
  },
  {
   "cell_type": "code",
   "execution_count": 25,
   "id": "d0bc28e3-ec90-4b52-94ce-5d1e6a45d8c7",
   "metadata": {},
   "outputs": [
    {
     "name": "stdout",
     "output_type": "stream",
     "text": [
      "+---+---------+---+---------+--------+---+-----+-----+-----+-----+-----+-----+---------+---------+---------+---------+---------+---------+--------+--------+--------+--------+--------+--------+--------------------------+\n",
      "| ID|LIMIT_BAL|SEX|EDUCATION|MARRIAGE|AGE|PAY_0|PAY_2|PAY_3|PAY_4|PAY_5|PAY_6|BILL_AMT1|BILL_AMT2|BILL_AMT3|BILL_AMT4|BILL_AMT5|BILL_AMT6|PAY_AMT1|PAY_AMT2|PAY_AMT3|PAY_AMT4|PAY_AMT5|PAY_AMT6|default_payment_next_month|\n",
      "+---+---------+---+---------+--------+---+-----+-----+-----+-----+-----+-----+---------+---------+---------+---------+---------+---------+--------+--------+--------+--------+--------+--------+--------------------------+\n",
      "|  1|    20000|  2|        2|       1| 24|    2|    2|   -1|   -1|   -2|   -2|     3913|     3102|      689|        0|        0|        0|       0|     689|       0|       0|       0|       0|                         1|\n",
      "|  2|   120000|  2|        2|       2| 26|   -1|    2|    0|    0|    0|    2|     2682|     1725|     2682|     3272|     3455|     3261|       0|    1000|    1000|    1000|       0|    2000|                         1|\n",
      "|  3|    90000|  2|        2|       2| 34|    0|    0|    0|    0|    0|    0|    29239|    14027|    13559|    14331|    14948|    15549|    1518|    1500|    1000|    1000|    1000|    5000|                         0|\n",
      "|  4|    50000|  2|        2|       1| 37|    0|    0|    0|    0|    0|    0|    46990|    48233|    49291|    28314|    28959|    29547|    2000|    2019|    1200|    1100|    1069|    1000|                         0|\n",
      "|  5|    50000|  1|        2|       1| 57|   -1|    0|   -1|    0|    0|    0|     8617|     5670|    35835|    20940|    19146|    19131|    2000|   36681|   10000|    9000|     689|     679|                         0|\n",
      "+---+---------+---+---------+--------+---+-----+-----+-----+-----+-----+-----+---------+---------+---------+---------+---------+---------+--------+--------+--------+--------+--------+--------+--------------------------+\n",
      "only showing top 5 rows\n",
      "\n"
     ]
    }
   ],
   "source": [
    "df.show(5)"
   ]
  },
  {
   "cell_type": "code",
   "execution_count": 26,
   "id": "1c0d02f3-a794-4856-bf1e-0c74e41b3fca",
   "metadata": {},
   "outputs": [
    {
     "name": "stdout",
     "output_type": "stream",
     "text": [
      "+---+---------+---+---------+--------+---+-----+-----+-----+-----+-----+-----+---------+---------+---------+---------+---------+---------+--------+--------+--------+--------+--------+--------+--------------------------+\n",
      "| ID|LIMIT_BAL|SEX|EDUCATION|MARRIAGE|AGE|PAY_1|PAY_2|PAY_3|PAY_4|PAY_5|PAY_6|BILL_AMT1|BILL_AMT2|BILL_AMT3|BILL_AMT4|BILL_AMT5|BILL_AMT6|PAY_AMT1|PAY_AMT2|PAY_AMT3|PAY_AMT4|PAY_AMT5|PAY_AMT6|default_payment_next_month|\n",
      "+---+---------+---+---------+--------+---+-----+-----+-----+-----+-----+-----+---------+---------+---------+---------+---------+---------+--------+--------+--------+--------+--------+--------+--------------------------+\n",
      "|  1|    20000|  2|        2|       1| 24|    2|    2|   -1|   -1|   -2|   -2|     3913|     3102|      689|        0|        0|        0|       0|     689|       0|       0|       0|       0|                         1|\n",
      "|  2|   120000|  2|        2|       2| 26|   -1|    2|    0|    0|    0|    2|     2682|     1725|     2682|     3272|     3455|     3261|       0|    1000|    1000|    1000|       0|    2000|                         1|\n",
      "|  3|    90000|  2|        2|       2| 34|    0|    0|    0|    0|    0|    0|    29239|    14027|    13559|    14331|    14948|    15549|    1518|    1500|    1000|    1000|    1000|    5000|                         0|\n",
      "|  4|    50000|  2|        2|       1| 37|    0|    0|    0|    0|    0|    0|    46990|    48233|    49291|    28314|    28959|    29547|    2000|    2019|    1200|    1100|    1069|    1000|                         0|\n",
      "|  5|    50000|  1|        2|       1| 57|   -1|    0|   -1|    0|    0|    0|     8617|     5670|    35835|    20940|    19146|    19131|    2000|   36681|   10000|    9000|     689|     679|                         0|\n",
      "+---+---------+---+---------+--------+---+-----+-----+-----+-----+-----+-----+---------+---------+---------+---------+---------+---------+--------+--------+--------+--------+--------+--------+--------------------------+\n",
      "only showing top 5 rows\n",
      "\n"
     ]
    }
   ],
   "source": [
    "df = df.withColumnRenamed(\"PAY_0\", \"PAY_1\")\n",
    "df.show(5)"
   ]
  },
  {
   "cell_type": "code",
   "execution_count": 27,
   "id": "ba444953-fbad-43ff-ba8c-95d20f0ce0eb",
   "metadata": {},
   "outputs": [
    {
     "name": "stdout",
     "output_type": "stream",
     "text": [
      "root\n",
      " |-- ID: integer (nullable = true)\n",
      " |-- LIMIT_BAL: integer (nullable = true)\n",
      " |-- SEX: integer (nullable = true)\n",
      " |-- EDUCATION: integer (nullable = true)\n",
      " |-- MARRIAGE: integer (nullable = true)\n",
      " |-- AGE: integer (nullable = true)\n",
      " |-- PAY_1: integer (nullable = true)\n",
      " |-- PAY_2: integer (nullable = true)\n",
      " |-- PAY_3: integer (nullable = true)\n",
      " |-- PAY_4: integer (nullable = true)\n",
      " |-- PAY_5: integer (nullable = true)\n",
      " |-- PAY_6: integer (nullable = true)\n",
      " |-- BILL_AMT1: integer (nullable = true)\n",
      " |-- BILL_AMT2: integer (nullable = true)\n",
      " |-- BILL_AMT3: integer (nullable = true)\n",
      " |-- BILL_AMT4: integer (nullable = true)\n",
      " |-- BILL_AMT5: integer (nullable = true)\n",
      " |-- BILL_AMT6: integer (nullable = true)\n",
      " |-- PAY_AMT1: integer (nullable = true)\n",
      " |-- PAY_AMT2: integer (nullable = true)\n",
      " |-- PAY_AMT3: integer (nullable = true)\n",
      " |-- PAY_AMT4: integer (nullable = true)\n",
      " |-- PAY_AMT5: integer (nullable = true)\n",
      " |-- PAY_AMT6: integer (nullable = true)\n",
      " |-- default_payment_next_month: integer (nullable = true)\n",
      " |-- Months_Late_Month_1: integer (nullable = true)\n",
      " |-- Months_Late_Month_2: integer (nullable = true)\n",
      " |-- Months_Late_Month_3: integer (nullable = true)\n",
      " |-- Months_Late_Month_4: integer (nullable = true)\n",
      " |-- Months_Late_Month_5: integer (nullable = true)\n",
      " |-- Months_Late_Month_6: integer (nullable = true)\n",
      "\n",
      "+---+---------+---+---------+--------+---+-----+-----+-----+-----+-----+-----+---------+---------+---------+---------+---------+---------+--------+--------+--------+--------+--------+--------+--------------------------+-------------------+-------------------+-------------------+-------------------+-------------------+-------------------+\n",
      "|ID |LIMIT_BAL|SEX|EDUCATION|MARRIAGE|AGE|PAY_1|PAY_2|PAY_3|PAY_4|PAY_5|PAY_6|BILL_AMT1|BILL_AMT2|BILL_AMT3|BILL_AMT4|BILL_AMT5|BILL_AMT6|PAY_AMT1|PAY_AMT2|PAY_AMT3|PAY_AMT4|PAY_AMT5|PAY_AMT6|default_payment_next_month|Months_Late_Month_1|Months_Late_Month_2|Months_Late_Month_3|Months_Late_Month_4|Months_Late_Month_5|Months_Late_Month_6|\n",
      "+---+---------+---+---------+--------+---+-----+-----+-----+-----+-----+-----+---------+---------+---------+---------+---------+---------+--------+--------+--------+--------+--------+--------+--------------------------+-------------------+-------------------+-------------------+-------------------+-------------------+-------------------+\n",
      "|1  |20000    |2  |2        |1       |24 |2    |2    |-1   |-1   |-2   |-2   |3913     |3102     |689      |0        |0        |0        |0       |689     |0       |0       |0       |0       |1                         |1                  |0                  |-1                 |-2                 |-3                 |-4                 |\n",
      "|2  |120000   |2  |2        |2       |26 |-1   |2    |0    |0    |0    |2    |2682     |1725     |2682     |3272     |3455     |3261     |0       |1000    |1000    |1000    |0       |2000    |1                         |-2                 |-3                 |-4                 |-5                 |-6                 |-7                 |\n",
      "|3  |90000    |2  |2        |2       |34 |0    |0    |0    |0    |0    |0    |29239    |14027    |13559    |14331    |14948    |15549    |1518    |1500    |1000    |1000    |1000    |5000    |0                         |-1                 |-2                 |-3                 |-4                 |-5                 |-6                 |\n",
      "|4  |50000    |2  |2        |1       |37 |0    |0    |0    |0    |0    |0    |46990    |48233    |49291    |28314    |28959    |29547    |2000    |2019    |1200    |1100    |1069    |1000    |0                         |-1                 |-2                 |-3                 |-4                 |-5                 |-6                 |\n",
      "|5  |50000    |1  |2        |1       |57 |-1   |0    |-1   |0    |0    |0    |8617     |5670     |35835    |20940    |19146    |19131    |2000    |36681   |10000   |9000    |689     |679     |0                         |-2                 |-3                 |-4                 |-5                 |-6                 |-7                 |\n",
      "+---+---------+---+---------+--------+---+-----+-----+-----+-----+-----+-----+---------+---------+---------+---------+---------+---------+--------+--------+--------+--------+--------+--------+--------------------------+-------------------+-------------------+-------------------+-------------------+-------------------+-------------------+\n",
      "only showing top 5 rows\n",
      "\n",
      "          ID  LIMIT_BAL  SEX  EDUCATION  MARRIAGE  AGE  PAY_1  PAY_2  PAY_3  \\\n",
      "0          1      20000    2          2         1   24      2      2     -1   \n",
      "1          2     120000    2          2         2   26     -1      2      0   \n",
      "2          3      90000    2          2         2   34      0      0      0   \n",
      "3          4      50000    2          2         1   37      0      0      0   \n",
      "4          5      50000    1          2         1   57     -1      0     -1   \n",
      "...      ...        ...  ...        ...       ...  ...    ...    ...    ...   \n",
      "29995  29996     220000    1          3         1   39      0      0      0   \n",
      "29996  29997     150000    1          3         2   43     -1     -1     -1   \n",
      "29997  29998      30000    1          2         2   37      4      3      2   \n",
      "29998  29999      80000    1          3         1   41      1     -1      0   \n",
      "29999  30000      50000    1          2         1   46      0      0      0   \n",
      "\n",
      "       PAY_4  ...  PAY_AMT4  PAY_AMT5  PAY_AMT6  default_payment_next_month  \\\n",
      "0         -1  ...         0         0         0                           1   \n",
      "1          0  ...      1000         0      2000                           1   \n",
      "2          0  ...      1000      1000      5000                           0   \n",
      "3          0  ...      1100      1069      1000                           0   \n",
      "4          0  ...      9000       689       679                           0   \n",
      "...      ...  ...       ...       ...       ...                         ...   \n",
      "29995      0  ...      3047      5000      1000                           0   \n",
      "29996     -1  ...       129         0         0                           0   \n",
      "29997     -1  ...      4200      2000      3100                           1   \n",
      "29998      0  ...      1926     52964      1804                           1   \n",
      "29999      0  ...      1000      1000      1000                           1   \n",
      "\n",
      "       Months_Late_Month_1  Months_Late_Month_2  Months_Late_Month_3  \\\n",
      "0                        1                    0                   -1   \n",
      "1                       -2                   -3                   -4   \n",
      "2                       -1                   -2                   -3   \n",
      "3                       -1                   -2                   -3   \n",
      "4                       -2                   -3                   -4   \n",
      "...                    ...                  ...                  ...   \n",
      "29995                   -1                   -2                   -3   \n",
      "29996                   -2                   -3                   -4   \n",
      "29997                    3                    2                    1   \n",
      "29998                    0                   -1                   -2   \n",
      "29999                   -1                   -2                   -3   \n",
      "\n",
      "       Months_Late_Month_4  Months_Late_Month_5  Months_Late_Month_6  \n",
      "0                       -2                   -3                   -4  \n",
      "1                       -5                   -6                   -7  \n",
      "2                       -4                   -5                   -6  \n",
      "3                       -4                   -5                   -6  \n",
      "4                       -5                   -6                   -7  \n",
      "...                    ...                  ...                  ...  \n",
      "29995                   -4                   -5                   -6  \n",
      "29996                   -5                   -6                   -7  \n",
      "29997                    0                   -1                   -2  \n",
      "29998                   -3                   -4                   -5  \n",
      "29999                   -4                   -5                   -6  \n",
      "\n",
      "[30000 rows x 31 columns]\n"
     ]
    }
   ],
   "source": [
    "\n",
    "\n",
    "# Assuming columns like BILL_AMT1, PAY_AMT1, BILL_AMT2, PAY_AMT2, etc.\n",
    "for month in range(1, 7):\n",
    "    bill_col = f\"BILL_AMT{month}\"\n",
    "    pay_col = f\"PAY_AMT{month}\"\n",
    "\n",
    "    # Create a new column for the number of months late\n",
    "    months_late_col = f\"Months_Late_Month_{month}\"\n",
    "    df = df.withColumn(months_late_col, when(col(pay_col).isNotNull(), col(\"PAY_1\") - month).otherwise(None))\n",
    "\n",
    "# Display the updated DataFrame structure\n",
    "df.printSchema()\n",
    "\n",
    "# Display the first few rows of the DataFrame\n",
    "df.show(5, truncate=False)\n",
    "\n",
    "# Try converting the DataFrame to Pandas\n",
    "df_pandas = df.toPandas()\n",
    "print(df_pandas)\n"
   ]
  },
  {
   "cell_type": "code",
   "execution_count": null,
   "id": "c6b80d98-879e-4b88-9cbf-dc05a0db839e",
   "metadata": {},
   "outputs": [],
   "source": [
    "# Stop the Spark session\n",
    "spark.stop()"
   ]
  },
  {
   "cell_type": "code",
   "execution_count": null,
   "id": "66616aaa-a209-487d-8fa0-ae6042fee3f0",
   "metadata": {},
   "outputs": [],
   "source": []
  },
  {
   "cell_type": "code",
   "execution_count": null,
   "id": "24382236-994b-40dc-8e7c-60a844553688",
   "metadata": {},
   "outputs": [],
   "source": []
  }
 ],
 "metadata": {
  "kernelspec": {
   "display_name": "Python 3 (ipykernel)",
   "language": "python",
   "name": "python3"
  },
  "language_info": {
   "codemirror_mode": {
    "name": "ipython",
    "version": 3
   },
   "file_extension": ".py",
   "mimetype": "text/x-python",
   "name": "python",
   "nbconvert_exporter": "python",
   "pygments_lexer": "ipython3",
   "version": "3.11.6"
  }
 },
 "nbformat": 4,
 "nbformat_minor": 5
}
